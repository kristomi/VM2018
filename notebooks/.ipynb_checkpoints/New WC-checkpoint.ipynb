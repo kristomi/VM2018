{
 "cells": [
  {
   "cell_type": "markdown",
   "metadata": {},
   "source": [
    "# World cup 2018 model"
   ]
  },
  {
   "cell_type": "markdown",
   "metadata": {},
   "source": [
    "Importerer pakker"
   ]
  },
  {
   "cell_type": "code",
   "execution_count": 1,
   "metadata": {},
   "outputs": [],
   "source": [
    "import pandas as pd\n",
    "import pickle\n",
    "import numpy as np\n",
    "import os\n",
    "import json\n",
    "import itertools as it\n",
    "from pathlib import Path\n",
    "import matplotlib.pyplot as plt\n",
    "from IPython.display import HTML\n",
    "\n",
    "import menon_styles\n",
    "\n",
    "\n",
    "\n",
    "%load_ext autoreload\n",
    "%autoreload 2\n",
    "%matplotlib inline\n",
    "%config InlineBackend.figure_format = 'retina'\n",
    "pd.set_option('float_format', '{:.2f}'.format)\n",
    "\n",
    "ROOT_DIR = Path(os.environ.get('ROOT_DIR'))\n",
    "DATA_DIR = ROOT_DIR / 'data'"
   ]
  },
  {
   "cell_type": "code",
   "execution_count": 2,
   "metadata": {},
   "outputs": [
    {
     "data": {
      "text/html": [
       "\n",
       "<style>\n",
       "html {\n",
       "  font-size: 62.5% !important;\n",
       "}\n",
       "table.dataframe {\n",
       "    border-collapse: collapse;\n",
       "    border: none;\n",
       "}\n",
       "table.dataframe tr {\n",
       "    border: none;\n",
       "}\n",
       "table.dataframe td, table.dataframe th {\n",
       "    margin: 0;\n",
       "    border: 1px solid white;\n",
       "    padding-left: 0.25em;\n",
       "    padding-right: 0.25em;\n",
       "}\n",
       "table.dataframe th:not(:empty) {\n",
       "    text-align: left;\n",
       "    font-weight: normal;\n",
       "}\n",
       "table.dataframe tr:nth-child(2) th:empty {\n",
       "    border-left: none;\n",
       "    border-right: 1px dashed #888;\n",
       "}\n",
       "table.dataframe td {\n",
       "    border: 2px solid #ccf;\n",
       "}\n",
       "tr:nth-child(2) tr:hover {\n",
       "  background: yellow;\n",
       "}\n",
       "\n",
       "div.text_cell_render {\n",
       "    font-family: Calibri, sans-serif !important;\n",
       "    font-size: 10pt;\n",
       "}\n",
       ".text_cell.rendered h1, h2, h3, h4 {\n",
       "  font-family: Calibri, sans-serif !important;\n",
       "\tmargin-top: 0 !important;\n",
       "  margin-bottom: 2rem !important;\n",
       "  font-weight: bold !important; }\n",
       ".text_cell.rendered h1 {\n",
       "  font-size: 30pt;\n",
       "}\n",
       ".text_cell.rendered h2 {\n",
       "\tfont-size: 24pt;\n",
       "  color: rgb(57,87,117);\n",
       "}\n",
       ".text_cell.rendered h3 {\n",
       "\tfont-size: 20pt;\n",
       "  color: rgb(214,127,22);\n",
       "}\n",
       ".text_cell.rendered h4 {\n",
       "\tfont-size: 14pt;\n",
       "  color: rgb(57,87,117);\n",
       "}\n",
       "</style>\n",
       "\n",
       "\n",
       "<style>\n",
       "h1:after {\n",
       "    content: url('https://www.menon.no/wp-content/uploads/2017logo@2x.png');\n",
       "    float: right;\n",
       "}\n",
       "</style>\n"
      ],
      "text/plain": [
       "<IPython.core.display.HTML object>"
      ]
     },
     "execution_count": 2,
     "metadata": {},
     "output_type": "execute_result"
    }
   ],
   "source": [
    "menon_styles.menon_styles()"
   ]
  },
  {
   "cell_type": "code",
   "execution_count": 3,
   "metadata": {},
   "outputs": [
    {
     "name": "stderr",
     "output_type": "stream",
     "text": [
      "/Users/kristomi/.pyenv/versions/3.6.4/envs/default/lib/python3.6/site-packages/h5py/__init__.py:36: FutureWarning: Conversion of the second argument of issubdtype from `float` to `np.floating` is deprecated. In future, it will be treated as `np.float64 == np.dtype(float).type`.\n",
      "  from ._conv import register_converters as _register_converters\n"
     ]
    }
   ],
   "source": [
    "from src.tournament import Simulation, Outcome, WorldCup\n",
    "from src.empirical_models.elo import Elo, TeamElo\n",
    "from src.empirical_models.regression import ConstantPar\n",
    "from src.make_data import make_groups"
   ]
  },
  {
   "cell_type": "markdown",
   "metadata": {},
   "source": [
    "## En overskrift"
   ]
  },
  {
   "cell_type": "code",
   "execution_count": 4,
   "metadata": {},
   "outputs": [],
   "source": [
    "e = pickle.loads((DATA_DIR / 'models/elo_pickle.pkl').read_bytes())"
   ]
  },
  {
   "cell_type": "code",
   "execution_count": 5,
   "metadata": {},
   "outputs": [
    {
     "data": {
      "text/plain": [
       "'Brazil'"
      ]
     },
     "execution_count": 5,
     "metadata": {},
     "output_type": "execute_result"
    }
   ],
   "source": [
    "wc = WorldCup(e)\n",
    "wc.winner"
   ]
  },
  {
   "cell_type": "code",
   "execution_count": null,
   "metadata": {
    "scrolled": false
   },
   "outputs": [],
   "source": [
    "sim = Simulation([e], n=10)\n",
    "sim.style"
   ]
  },
  {
   "cell_type": "code",
   "execution_count": null,
   "metadata": {},
   "outputs": [],
   "source": [
    "sim = Simulation([ConstantPar() for _ in range(5)], n=100)\n",
    "sim.group"
   ]
  },
  {
   "cell_type": "code",
   "execution_count": null,
   "metadata": {},
   "outputs": [],
   "source": [
    "sim.style"
   ]
  },
  {
   "cell_type": "code",
   "execution_count": null,
   "metadata": {},
   "outputs": [],
   "source": []
  }
 ],
 "metadata": {
  "kernelspec": {
   "display_name": "Python 3",
   "language": "python",
   "name": "python3"
  },
  "language_info": {
   "codemirror_mode": {
    "name": "ipython",
    "version": 3
   },
   "file_extension": ".py",
   "mimetype": "text/x-python",
   "name": "python",
   "nbconvert_exporter": "python",
   "pygments_lexer": "ipython3",
   "version": "3.6.4"
  }
 },
 "nbformat": 4,
 "nbformat_minor": 2
}
