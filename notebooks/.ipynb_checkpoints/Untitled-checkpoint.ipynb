{
 "cells": [
  {
   "cell_type": "markdown",
   "metadata": {},
   "source": [
    "# Tittel"
   ]
  },
  {
   "cell_type": "code",
   "execution_count": 7,
   "metadata": {},
   "outputs": [],
   "source": [
    "import matplotlib.pyplot as plt\n",
    "%matplotlib inline\n",
    "import menon_styles"
   ]
  },
  {
   "cell_type": "code",
   "execution_count": 2,
   "metadata": {},
   "outputs": [
    {
     "data": {
      "text/html": [
       "\n",
       "<style>\n",
       "html {\n",
       "  font-size: 62.5% !important;\n",
       "}\n",
       "table.dataframe {\n",
       "    border-collapse: collapse;\n",
       "    border: none;\n",
       "}\n",
       "table.dataframe tr {\n",
       "    border: none;\n",
       "}\n",
       "table.dataframe td, table.dataframe th {\n",
       "    margin: 0;\n",
       "    border: 1px solid white;\n",
       "    padding-left: 0.25em;\n",
       "    padding-right: 0.25em;\n",
       "}\n",
       "table.dataframe th:not(:empty) {\n",
       "    text-align: left;\n",
       "    font-weight: normal;\n",
       "}\n",
       "table.dataframe tr:nth-child(2) th:empty {\n",
       "    border-left: none;\n",
       "    border-right: 1px dashed #888;\n",
       "}\n",
       "table.dataframe td {\n",
       "    border: 2px solid #ccf;\n",
       "}\n",
       "tr:nth-child(2) tr:hover {\n",
       "  background: yellow;\n",
       "}\n",
       "body {\n",
       "  counter-reset: section subsection subsubsection;\n",
       "}\n",
       "\n",
       "h2 {\n",
       "  counter-reset: subsection;\n",
       "}\n",
       "\n",
       "h2:before {\n",
       "    counter-increment: section;\n",
       "    content: counter(section) \". \";\n",
       "}\n",
       "\n",
       "h3 {\n",
       "  counter-reset: subsubsection;\n",
       "}\n",
       "h3:before {\n",
       "    counter-increment: subsection;\n",
       "    content: counter(section) \".\" counter(subsection) \" \";\n",
       "}\n",
       "\n",
       "h4:before {\n",
       "    counter-increment: subsubsection;\n",
       "    content: counter(section) \".\" counter(subsection) \".\" counter(subsubsection) \" \";\n",
       "}\n",
       "\n",
       "div.text_cell_render {\n",
       "    font-family: Calibri, sans-serif !important;\n",
       "    font-size: 10pt;\n",
       "}\n",
       ".text_cell.rendered h1, h2, h3, h4 {\n",
       "  font-family: Calibri, sans-serif !important;\n",
       "\tmargin-top: 0 !important;\n",
       "  margin-bottom: 2rem !important;\n",
       "  font-weight: bold !important; }\n",
       ".text_cell.rendered h1 {\n",
       "  font-size: 30pt;\n",
       "}\n",
       ".text_cell.rendered h2 {\n",
       "\tfont-size: 24pt;\n",
       "  color: rgb(57,87,117);\n",
       "}\n",
       ".text_cell.rendered h3 {\n",
       "\tfont-size: 20pt;\n",
       "  color: rgb(214,127,22);\n",
       "}\n",
       ".text_cell.rendered h4 {\n",
       "\tfont-size: 14pt;\n",
       "  color: rgb(57,87,117);\n",
       "}\n",
       "</style>\n",
       "\n",
       "\n",
       "<style>\n",
       "h1:after {\n",
       "    content: url('https://www.menon.no/wp-content/uploads/2017logo@2x.png');\n",
       "    float: right;\n",
       "}\n",
       "</style>\n"
      ],
      "text/plain": [
       "<IPython.core.display.HTML object>"
      ]
     },
     "execution_count": 2,
     "metadata": {},
     "output_type": "execute_result"
    }
   ],
   "source": [
    "menon_styles.menon_styles()"
   ]
  },
  {
   "cell_type": "markdown",
   "metadata": {},
   "source": [
    "## Header 1 "
   ]
  },
  {
   "cell_type": "markdown",
   "metadata": {},
   "source": [
    "### Header 2"
   ]
  },
  {
   "cell_type": "markdown",
   "metadata": {},
   "source": [
    "#### Header 3"
   ]
  },
  {
   "cell_type": "code",
   "execution_count": 6,
   "metadata": {},
   "outputs": [
    {
     "data": {
      "image/png": "[encoded data removed]",
      "text/plain": [
       "<matplotlib.figure.Figure at 0x109149208>"
      ]
     },
     "metadata": {},
     "output_type": "display_data"
    }
   ],
   "source": [
    "plt.plot([1,2,3,4])\n",
    "plt.plot([2,1,1,3])\n",
    "plt.ylabel('Testplot')\n",
    "plt.show()"
   ]
  },
  {
   "cell_type": "code",
   "execution_count": null,
   "metadata": {},
   "outputs": [],
   "source": []
  }
 ],
 "metadata": {
  "kernelspec": {
   "display_name": "Python 3",
   "language": "python",
   "name": "python3"
  },
  "language_info": {
   "codemirror_mode": {
    "name": "ipython",
    "version": 3
   },
   "file_extension": ".py",
   "mimetype": "text/x-python",
   "name": "python",
   "nbconvert_exporter": "python",
   "pygments_lexer": "ipython3",
   "version": "3.6.4"
  }
 },
 "nbformat": 4,
 "nbformat_minor": 2
}
